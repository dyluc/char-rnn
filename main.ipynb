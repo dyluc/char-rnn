{
 "cells": [
  {
   "cell_type": "markdown",
   "metadata": {
    "collapsed": false,
    "jupyter": {
     "outputs_hidden": false
    }
   },
   "source": [
    "# Character RNNs"
   ]
  },
  {
   "cell_type": "code",
   "execution_count": 1,
   "metadata": {
    "collapsed": false,
    "is_executing": true,
    "jupyter": {
     "outputs_hidden": false
    }
   },
   "outputs": [
    {
     "name": "stdout",
     "output_type": "stream",
     "text": [
      "you must, Anger important is.\n",
      "leads, You learned is.\n",
      "wise Size leads, it does.\n",
      "nothing, The future m\n"
     ]
    }
   ],
   "source": [
    "import os\n",
    "os.environ[\"TF_CPP_MIN_LOG_LEVEL\"] = \"2\"\n",
    "import tensorflow as tf\n",
    "\n",
    "dataset_path = os.path.abspath(\"./datasets/nonsensical_yoda2.txt\")\n",
    "with open(dataset_path) as f:\n",
    "    yoda_ramblings = f.read()\n",
    "    print(yoda_ramblings[:100])"
   ]
  },
  {
   "cell_type": "markdown",
   "metadata": {
    "collapsed": false,
    "jupyter": {
     "outputs_hidden": false
    }
   },
   "source": [
    "We can start off by creating our text vector, encoding the nonsensical Yoda ramblings into character level integer mappings."
   ]
  },
  {
   "cell_type": "code",
   "execution_count": 2,
   "metadata": {},
   "outputs": [],
   "source": [
    "text_vec_layer = tf.keras.layers.TextVectorization(split=\"character\", standardize=\"lower\")\n",
    "text_vec_layer.adapt([yoda_ramblings])\n",
    "encoded_ramblings = text_vec_layer([yoda_ramblings])[0] - 2 # remove padding and unknown chars"
   ]
  },
  {
   "cell_type": "code",
   "execution_count": 3,
   "metadata": {},
   "outputs": [
    {
     "name": "stdout",
     "output_type": "stream",
     "text": [
      "N characters: 28, Dataset size: 93562\n"
     ]
    }
   ],
   "source": [
    "token_count = text_vec_layer.vocabulary_size() - 2 \n",
    "dataset_size = len(encoded_ramblings)\n",
    "print(f\"N characters: {token_count}, Dataset size: {dataset_size}\")"
   ]
  },
  {
   "cell_type": "markdown",
   "metadata": {},
   "source": [
    "Training our seq-to-seq RNN will involve configuring our dataset into pairs of input and target sequence windows. The input and target sequence window lengths will match. The target windows will contain a shifted version of the inputs, at a single time step ahead."
   ]
  },
  {
   "cell_type": "code",
   "execution_count": 4,
   "metadata": {},
   "outputs": [],
   "source": [
    "tf.random.set_seed(42)\n",
    "\n",
    "def construct_dataset(character_seq, window_length):\n",
    "    dataset = tf.data.Dataset.from_tensor_slices(character_seq)\n",
    "    dataset = dataset.window(window_length + 1, shift=1, drop_remainder=True)\n",
    "    dataset = dataset.flat_map(lambda window_dataset: window_dataset.batch(window_length + 1))\n",
    "    \n",
    "    # shuffle the dataset\n",
    "    dataset = dataset.shuffle(buffer_size=100_000)\n",
    "    dataset = dataset.batch(32)\n",
    "    return dataset.map(lambda window: (window[:, :-1], window[:, 1:])).prefetch(1)"
   ]
  },
  {
   "cell_type": "markdown",
   "metadata": {},
   "source": [
    "The above function does the following in order:\n",
    "1. Convert the input sequence to a TensorFlow Dataset.\n",
    "2. Construct sliding windows over the sequence with the given window length, ensuring windows are overlapping and slide by one element at a time.\n",
    "3. Flatten the nested Datasets.\n",
    "4. Shuffle, batch and return a Dataset of input, target pairs. Prefetch, ensuring data preprocessing is overlapped with model training one batch ahead."
   ]
  },
  {
   "cell_type": "code",
   "execution_count": 5,
   "metadata": {},
   "outputs": [],
   "source": [
    "# construct our training, validation and test set.\n",
    "window_length = 50\n",
    "train_set = construct_dataset(encoded_ramblings[:74800], window_length=window_length) # ~80%\n",
    "valid_set = construct_dataset(encoded_ramblings[74800:84100], window_length=window_length) # ~10%\n",
    "test_set = construct_dataset(encoded_ramblings[84100:], window_length=window_length) # ~10%"
   ]
  },
  {
   "cell_type": "markdown",
   "metadata": {},
   "source": [
    "## What are GRUs?\n",
    "\n",
    "The GRU (or Gated Recurrent Unit) is a variant of the LSTM cell that simplifies the architecture while achieving similar performance. This simplification is accomplished through a few key adjustments.\n",
    "\n",
    "Firstly, the GRU eliminates the distinction between the short term state ($h_{(t)}$) and the long term state ($c_{(t)}$), opting instead to combine them into a single vector.\n",
    "\n",
    "Secondly, the GRU architecture uses only two gates:\n",
    "- **Update gate** $z_{(t)}$: This gate controlls the extent to which the previous hidden state is kept (or dropped) and how much of the new state is added (similar to the combination of the forget and input gates in an LSTM). It uses a sigmoid activation function, constraining its output between 0 and 1.\n",
    "- **Reset gate** $r_{(t)}$: This gate determines how much of the previous hidden state contributes to the candidate activation $g_{(t)}$. Outputs closer to 0 enable the GRU to forget the previous state, effectively resetting itself for new input.\n",
    "\n",
    "Finally, the GRU does not have a separate output gate like the LSTM, so the entire hidden state vector is used as the output $h_{(t)}$. This reduces the number of parameters and simplifies the computation."
   ]
  },
  {
   "cell_type": "code",
   "execution_count": 6,
   "metadata": {},
   "outputs": [
    {
     "name": "stdout",
     "output_type": "stream",
     "text": [
      "Epoch 1/10\n",
      "   2336/Unknown - 33s 12ms/step - loss: 0.6496 - accuracy: 0.7847"
     ]
    },
    {
     "name": "stderr",
     "output_type": "stream",
     "text": [
      "WARNING:absl:Found untraced functions such as gru_cell_layer_call_fn, gru_cell_layer_call_and_return_conditional_losses while saving (showing 2 of 2). These functions will not be directly callable after loading.\n"
     ]
    },
    {
     "name": "stdout",
     "output_type": "stream",
     "text": [
      "INFO:tensorflow:Assets written to: yoda_model/assets\n"
     ]
    },
    {
     "name": "stderr",
     "output_type": "stream",
     "text": [
      "INFO:tensorflow:Assets written to: yoda_model/assets\n"
     ]
    },
    {
     "name": "stdout",
     "output_type": "stream",
     "text": [
      "2336/2336 [==============================] - 38s 14ms/step - loss: 0.6496 - accuracy: 0.7847 - val_loss: 0.3770 - val_accuracy: 0.8555\n",
      "Epoch 2/10\n",
      "2336/2336 [==============================] - ETA: 0s - loss: 0.3454 - accuracy: 0.8660"
     ]
    },
    {
     "name": "stderr",
     "output_type": "stream",
     "text": [
      "WARNING:absl:Found untraced functions such as gru_cell_layer_call_fn, gru_cell_layer_call_and_return_conditional_losses while saving (showing 2 of 2). These functions will not be directly callable after loading.\n"
     ]
    },
    {
     "name": "stdout",
     "output_type": "stream",
     "text": [
      "INFO:tensorflow:Assets written to: yoda_model/assets\n"
     ]
    },
    {
     "name": "stderr",
     "output_type": "stream",
     "text": [
      "INFO:tensorflow:Assets written to: yoda_model/assets\n"
     ]
    },
    {
     "name": "stdout",
     "output_type": "stream",
     "text": [
      "2336/2336 [==============================] - 36s 14ms/step - loss: 0.3454 - accuracy: 0.8660 - val_loss: 0.3613 - val_accuracy: 0.8595\n",
      "Epoch 3/10\n",
      "2336/2336 [==============================] - 35s 13ms/step - loss: 0.3306 - accuracy: 0.8705 - val_loss: 0.3627 - val_accuracy: 0.8589\n",
      "Epoch 4/10\n",
      "2336/2336 [==============================] - 34s 13ms/step - loss: 0.3208 - accuracy: 0.8744 - val_loss: 0.3758 - val_accuracy: 0.8552\n",
      "Epoch 5/10\n",
      "2336/2336 [==============================] - 35s 13ms/step - loss: 0.3115 - accuracy: 0.8785 - val_loss: 0.3766 - val_accuracy: 0.8576\n",
      "Epoch 6/10\n",
      "2336/2336 [==============================] - 35s 13ms/step - loss: 0.3027 - accuracy: 0.8827 - val_loss: 0.3901 - val_accuracy: 0.8554\n",
      "Epoch 7/10\n",
      "2336/2336 [==============================] - 35s 13ms/step - loss: 0.2948 - accuracy: 0.8861 - val_loss: 0.3960 - val_accuracy: 0.8561\n",
      "Epoch 8/10\n",
      "2336/2336 [==============================] - 35s 13ms/step - loss: 0.2882 - accuracy: 0.8889 - val_loss: 0.4036 - val_accuracy: 0.8556\n",
      "Epoch 9/10\n",
      "2336/2336 [==============================] - 35s 13ms/step - loss: 0.2823 - accuracy: 0.8913 - val_loss: 0.4169 - val_accuracy: 0.8533\n",
      "Epoch 10/10\n",
      "2336/2336 [==============================] - 35s 13ms/step - loss: 0.2780 - accuracy: 0.8931 - val_loss: 0.4240 - val_accuracy: 0.8538\n"
     ]
    }
   ],
   "source": [
    "with tf.device('/CPU:0'):\n",
    "    model = tf.keras.Sequential([\n",
    "        tf.keras.layers.Embedding(input_dim=token_count, output_dim=13),\n",
    "        tf.keras.layers.GRU(128, return_sequences=True),\n",
    "        tf.keras.layers.Dense(token_count, activation=\"softmax\")\n",
    "    ])\n",
    "\n",
    "model.compile(loss=\"sparse_categorical_crossentropy\", optimizer=\"nadam\", metrics=[\"accuracy\"])\n",
    "model_checkpoint = tf.keras.callbacks.ModelCheckpoint(\n",
    "    \"yoda_model\", monitor=\"val_accuracy\", save_best_only=True)\n",
    "history = model.fit(train_set, validation_data=valid_set, epochs=10, callbacks=[model_checkpoint])"
   ]
  },
  {
   "cell_type": "markdown",
   "metadata": {},
   "source": [
    "The above does the following:\n",
    "- Encodes the character IDs as embeddings. The input dimension will be the count of distinct characters we have in our dataset and the output dimension will a tunable hyperparameter (fixed at 13 for now). The output is a series of 13 dimensional embedding vectors representing each character.\n",
    "- Passes the outputs of the Embedding layer to the GRU, configured with 128 units.\n",
    "  - Each time step, each cell processes the entire input sequence, maintaining its own input state.\n",
    "  - `return_sequences=True` means the layer outputs a sequence of hidden states, 1 for each time step in the input sequence. This results in a 3D tensor of shape [batch size, window length, GRU units] or [32, 50, 128].\n",
    "- Uses a Dense layer with softmax activation to output character probabilities, applied at each time step independently. This layer is configured with the same amount of units as distinct characters in our dataset.\n",
    "- Compiles the model using the sparse categorical crossentropy loss, and the Nadam optimizer. We'll use the ModelCheckpoint callback to save the best performing model based on the validation set accuracy between epochs. This will help us preserve the model with the best validation performance in case of fluctuations during training, or overfitting begins to occur.\n",
    "\n",
    "Finally, let's wrap the preprocessing up in a final model for inferencing:"
   ]
  },
  {
   "cell_type": "code",
   "execution_count": 7,
   "metadata": {},
   "outputs": [],
   "source": [
    "final_model = tf.keras.Sequential([\n",
    "    text_vec_layer,\n",
    "    tf.keras.layers.Lambda(lambda X: X - 2), # remove padding and unknown chars as before\n",
    "    model\n",
    "])"
   ]
  },
  {
   "cell_type": "code",
   "execution_count": 8,
   "metadata": {},
   "outputs": [
    {
     "name": "stdout",
     "output_type": "stream",
     "text": [
      "1/1 [==============================] - 0s 464ms/step\n"
     ]
    },
    {
     "data": {
      "text/plain": [
       "'s'"
      ]
     },
     "execution_count": 8,
     "metadata": {},
     "output_type": "execute_result"
    }
   ],
   "source": [
    "y_proba = final_model.predict([\"strong, The dark side i\"])[0, -1]\n",
    "y_pred = tf.argmax(y_proba) # highest character probability\n",
    "text_vec_layer.get_vocabulary()[y_pred + 2]"
   ]
  },
  {
   "cell_type": "markdown",
   "metadata": {},
   "source": [
    "## Temperature-controlled Sampling\n",
    "\n",
    "A typical approach to text generation from here would be to iteratively generate and append new characters to the end of a character sequence. This is through the following steps:\n",
    "\n",
    "1. **Model prediction**: Obtain the predicted probability distribution for the last time step.\n",
    "2. **Apply temperature**: Convert the predicted probabilities into logits (using `tf.math.log`) and rescale them by dividing by a _temperature_ parameter. This parameter controls the randomness of predictions - lower temperatures make the model more confident (less random), while higher temperatures make it more exploratory (more random).\n",
    "3. **Sampling**: Using the probabilities defined by the rescaled logits, sample the next character ID using `tf.random.categorical`."
   ]
  },
  {
   "cell_type": "code",
   "execution_count": 9,
   "metadata": {},
   "outputs": [
    {
     "name": "stdout",
     "output_type": "stream",
     "text": [
      "strong, The dark side is.\n",
      "always is there impossible, the future is.\n",
      "strong, the future cannot, hmm.\n",
      "dangerous, a jedi is, hmm.\n",
      "everything, you leads, hmm.\n",
      "everythi\n"
     ]
    }
   ],
   "source": [
    "def next_char(text, temp=1):\n",
    "    y_proba = final_model.predict([text], verbose=0)[0, -1:] # 1.\n",
    "    rescaled_logits = tf.math.log(y_proba) / temp # 2.\n",
    "    y_pred = tf.random.categorical(rescaled_logits, num_samples=1)[0, 0] #3.\n",
    "    return text_vec_layer.get_vocabulary()[y_pred + 2]\n",
    "    \n",
    "def produce_text(text, num_characters=140, temp=1):\n",
    "    for _ in range(num_characters):\n",
    "        text += next_char(text, temp)\n",
    "    return text\n",
    "\n",
    "print(produce_text(\"strong, The dark side is\"))"
   ]
  },
  {
   "cell_type": "code",
   "execution_count": 10,
   "metadata": {},
   "outputs": [
    {
     "name": "stdout",
     "output_type": "stream",
     "text": [
      "strong, The dark side is, size clouded is.\n",
      "alway.ng, fhmu,arndt size understande clouded knowlleng.\n",
      "size you training must, it roes.\n",
      "to you are, a jeri must.\n",
      "s,aii \n"
     ]
    }
   ],
   "source": [
    "print(produce_text(\"strong, The dark side is\", temp=3))"
   ]
  },
  {
   "cell_type": "markdown",
   "metadata": {},
   "source": [
    "Introducing further control over the sampled characters by selecting the next token from the smallest subset of tokens whose cumulative probability exceeds a specific threshold will help avoid generating completely unconvincing text like the above. In fact, this technique is called _nucleus sampling_, but we can go one step further, and use a stateful RNN.\n",
    "\n",
    "## Stateful RNNs\n",
    "\n",
    "If we preserve the hidden state across different batches of input sequences during training (as opposed to resetting them to zeros between batches), we can enable the network to maintain context over large sequences split across multiple batches. Note backpropagation through time (BPTT) will still be limited to the sequence length of a single batch.\n",
    "\n",
    "For that though, we'll need a better suited dataset. We'll use the Star Wars original trilogy scripts."
   ]
  },
  {
   "cell_type": "code",
   "execution_count": 11,
   "metadata": {},
   "outputs": [
    {
     "name": "stdout",
     "output_type": "stream",
     "text": [
      "STAR WARS\n",
      "\n",
      "Episode IV\n",
      "\n",
      "A NEW HOPE\n",
      "...\n",
      "END CREDITS OVER STAR FIELD\n"
     ]
    }
   ],
   "source": [
    "dataset_path = os.path.abspath(\"./datasets/original_trilogy_scripts.txt\")\n",
    "\n",
    "with open(dataset_path) as f:\n",
    "    sw_script = f.read()\n",
    "    print(sw_script[:33])\n",
    "    print(\"...\")\n",
    "    print(sw_script[-27:])"
   ]
  },
  {
   "cell_type": "code",
   "execution_count": 12,
   "metadata": {},
   "outputs": [
    {
     "name": "stdout",
     "output_type": "stream",
     "text": [
      "N characters: 55, Dataset size: 490580\n"
     ]
    }
   ],
   "source": [
    "text_vec_layer = tf.keras.layers.TextVectorization(split=\"character\", standardize=\"lower\")\n",
    "text_vec_layer.adapt([sw_script])\n",
    "encoded_script = text_vec_layer([sw_script])[0] - 2 # remove padding and unknown chars\n",
    "\n",
    "token_count = text_vec_layer.vocabulary_size() - 2 \n",
    "dataset_size = len(sw_script)\n",
    "print(f\"N characters: {token_count}, Dataset size: {dataset_size}\")"
   ]
  },
  {
   "cell_type": "markdown",
   "metadata": {},
   "source": [
    "Overlapping and shuffled input sequences will no longer do. The following are the newly constructed datasets using a revised version of the `construct_dataset` method."
   ]
  },
  {
   "cell_type": "code",
   "execution_count": 13,
   "metadata": {},
   "outputs": [],
   "source": [
    "tf.random.set_seed(42)\n",
    "\n",
    "def construct_stateful_dataset(character_seq, window_length):\n",
    "    dataset = tf.data.Dataset.from_tensor_slices(character_seq)\n",
    "    dataset = dataset.window(window_length + 1, shift=window_length, drop_remainder=True)\n",
    "    dataset = dataset.flat_map(lambda window_dataset: window_dataset.batch(window_length + 1))\n",
    "    \n",
    "    dataset = dataset.batch(1)\n",
    "    return dataset.map(lambda window: (window[:, :-1], window[:, 1:])).prefetch(1)\n",
    "\n",
    "window_length = 100\n",
    "train_set = construct_stateful_dataset(encoded_script[:392400], window_length) # ~80%\n",
    "valid_set = construct_stateful_dataset(encoded_script[392400:441500], window_length) # ~10%\n",
    "test_set = construct_stateful_dataset(encoded_script[441500:], window_length) # ~10%"
   ]
  },
  {
   "cell_type": "markdown",
   "metadata": {},
   "source": [
    "Then constructing the stateful RNN is easy, with few small adjustments. We just ensure the batch input size is set in the first layer, and the `stateful=True` is set on the GRU layer. It's also important to wipe the hidden state between training epochs to avoid unintended carryover of information from the last batch of the previous epoch. This will ensure each epoch maintains it's own context, and doesn't mix sequential data across epochs. We can achieve this with a very simple callback."
   ]
  },
  {
   "cell_type": "code",
   "execution_count": 14,
   "metadata": {},
   "outputs": [
    {
     "name": "stdout",
     "output_type": "stream",
     "text": [
      "Epoch 1/15\n",
      "   3920/Unknown - 64s 16ms/step - loss: 2.0927 - accuracy: 0.3982"
     ]
    },
    {
     "name": "stderr",
     "output_type": "stream",
     "text": [
      "WARNING:absl:Found untraced functions such as gru_cell_1_layer_call_fn, gru_cell_1_layer_call_and_return_conditional_losses while saving (showing 2 of 2). These functions will not be directly callable after loading.\n"
     ]
    },
    {
     "name": "stdout",
     "output_type": "stream",
     "text": [
      "INFO:tensorflow:Assets written to: sw_model/assets\n"
     ]
    },
    {
     "name": "stderr",
     "output_type": "stream",
     "text": [
      "INFO:tensorflow:Assets written to: sw_model/assets\n"
     ]
    },
    {
     "name": "stdout",
     "output_type": "stream",
     "text": [
      "3923/3923 [==============================] - 70s 18ms/step - loss: 2.0925 - accuracy: 0.3982 - val_loss: 1.9235 - val_accuracy: 0.4379\n",
      "Epoch 2/15\n",
      "3923/3923 [==============================] - ETA: 0s - loss: 1.6507 - accuracy: 0.5104"
     ]
    },
    {
     "name": "stderr",
     "output_type": "stream",
     "text": [
      "WARNING:absl:Found untraced functions such as gru_cell_1_layer_call_fn, gru_cell_1_layer_call_and_return_conditional_losses while saving (showing 2 of 2). These functions will not be directly callable after loading.\n"
     ]
    },
    {
     "name": "stdout",
     "output_type": "stream",
     "text": [
      "INFO:tensorflow:Assets written to: sw_model/assets\n"
     ]
    },
    {
     "name": "stderr",
     "output_type": "stream",
     "text": [
      "INFO:tensorflow:Assets written to: sw_model/assets\n"
     ]
    },
    {
     "name": "stdout",
     "output_type": "stream",
     "text": [
      "3923/3923 [==============================] - 69s 18ms/step - loss: 1.6507 - accuracy: 0.5104 - val_loss: 1.7565 - val_accuracy: 0.4781\n",
      "Epoch 3/15\n",
      "3922/3923 [============================>.] - ETA: 0s - loss: 1.5008 - accuracy: 0.5508"
     ]
    },
    {
     "name": "stderr",
     "output_type": "stream",
     "text": [
      "WARNING:absl:Found untraced functions such as gru_cell_1_layer_call_fn, gru_cell_1_layer_call_and_return_conditional_losses while saving (showing 2 of 2). These functions will not be directly callable after loading.\n"
     ]
    },
    {
     "name": "stdout",
     "output_type": "stream",
     "text": [
      "INFO:tensorflow:Assets written to: sw_model/assets\n"
     ]
    },
    {
     "name": "stderr",
     "output_type": "stream",
     "text": [
      "INFO:tensorflow:Assets written to: sw_model/assets\n"
     ]
    },
    {
     "name": "stdout",
     "output_type": "stream",
     "text": [
      "3923/3923 [==============================] - 68s 17ms/step - loss: 1.5009 - accuracy: 0.5508 - val_loss: 1.6856 - val_accuracy: 0.4998\n",
      "Epoch 4/15\n",
      "3922/3923 [============================>.] - ETA: 0s - loss: 1.4239 - accuracy: 0.5722"
     ]
    },
    {
     "name": "stderr",
     "output_type": "stream",
     "text": [
      "WARNING:absl:Found untraced functions such as gru_cell_1_layer_call_fn, gru_cell_1_layer_call_and_return_conditional_losses while saving (showing 2 of 2). These functions will not be directly callable after loading.\n"
     ]
    },
    {
     "name": "stdout",
     "output_type": "stream",
     "text": [
      "INFO:tensorflow:Assets written to: sw_model/assets\n"
     ]
    },
    {
     "name": "stderr",
     "output_type": "stream",
     "text": [
      "INFO:tensorflow:Assets written to: sw_model/assets\n"
     ]
    },
    {
     "name": "stdout",
     "output_type": "stream",
     "text": [
      "3923/3923 [==============================] - 68s 17ms/step - loss: 1.4240 - accuracy: 0.5722 - val_loss: 1.6451 - val_accuracy: 0.5117\n",
      "Epoch 5/15\n",
      "3921/3923 [============================>.] - ETA: 0s - loss: 1.3767 - accuracy: 0.5844"
     ]
    },
    {
     "name": "stderr",
     "output_type": "stream",
     "text": [
      "WARNING:absl:Found untraced functions such as gru_cell_1_layer_call_fn, gru_cell_1_layer_call_and_return_conditional_losses while saving (showing 2 of 2). These functions will not be directly callable after loading.\n"
     ]
    },
    {
     "name": "stdout",
     "output_type": "stream",
     "text": [
      "INFO:tensorflow:Assets written to: sw_model/assets\n"
     ]
    },
    {
     "name": "stderr",
     "output_type": "stream",
     "text": [
      "INFO:tensorflow:Assets written to: sw_model/assets\n"
     ]
    },
    {
     "name": "stdout",
     "output_type": "stream",
     "text": [
      "3923/3923 [==============================] - 69s 18ms/step - loss: 1.3768 - accuracy: 0.5843 - val_loss: 1.6250 - val_accuracy: 0.5181\n",
      "Epoch 6/15\n",
      "3922/3923 [============================>.] - ETA: 0s - loss: 1.3435 - accuracy: 0.5933"
     ]
    },
    {
     "name": "stderr",
     "output_type": "stream",
     "text": [
      "WARNING:absl:Found untraced functions such as gru_cell_1_layer_call_fn, gru_cell_1_layer_call_and_return_conditional_losses while saving (showing 2 of 2). These functions will not be directly callable after loading.\n"
     ]
    },
    {
     "name": "stdout",
     "output_type": "stream",
     "text": [
      "INFO:tensorflow:Assets written to: sw_model/assets\n"
     ]
    },
    {
     "name": "stderr",
     "output_type": "stream",
     "text": [
      "INFO:tensorflow:Assets written to: sw_model/assets\n"
     ]
    },
    {
     "name": "stdout",
     "output_type": "stream",
     "text": [
      "3923/3923 [==============================] - 68s 17ms/step - loss: 1.3436 - accuracy: 0.5933 - val_loss: 1.6150 - val_accuracy: 0.5214\n",
      "Epoch 7/15\n",
      "3922/3923 [============================>.] - ETA: 0s - loss: 1.3187 - accuracy: 0.6003"
     ]
    },
    {
     "name": "stderr",
     "output_type": "stream",
     "text": [
      "WARNING:absl:Found untraced functions such as gru_cell_1_layer_call_fn, gru_cell_1_layer_call_and_return_conditional_losses while saving (showing 2 of 2). These functions will not be directly callable after loading.\n"
     ]
    },
    {
     "name": "stdout",
     "output_type": "stream",
     "text": [
      "INFO:tensorflow:Assets written to: sw_model/assets\n"
     ]
    },
    {
     "name": "stderr",
     "output_type": "stream",
     "text": [
      "INFO:tensorflow:Assets written to: sw_model/assets\n"
     ]
    },
    {
     "name": "stdout",
     "output_type": "stream",
     "text": [
      "3923/3923 [==============================] - 69s 18ms/step - loss: 1.3188 - accuracy: 0.6003 - val_loss: 1.6074 - val_accuracy: 0.5246\n",
      "Epoch 8/15\n",
      "3921/3923 [============================>.] - ETA: 0s - loss: 1.2993 - accuracy: 0.6052"
     ]
    },
    {
     "name": "stderr",
     "output_type": "stream",
     "text": [
      "WARNING:absl:Found untraced functions such as gru_cell_1_layer_call_fn, gru_cell_1_layer_call_and_return_conditional_losses while saving (showing 2 of 2). These functions will not be directly callable after loading.\n"
     ]
    },
    {
     "name": "stdout",
     "output_type": "stream",
     "text": [
      "INFO:tensorflow:Assets written to: sw_model/assets\n"
     ]
    },
    {
     "name": "stderr",
     "output_type": "stream",
     "text": [
      "INFO:tensorflow:Assets written to: sw_model/assets\n"
     ]
    },
    {
     "name": "stdout",
     "output_type": "stream",
     "text": [
      "3923/3923 [==============================] - 69s 17ms/step - loss: 1.2994 - accuracy: 0.6052 - val_loss: 1.6026 - val_accuracy: 0.5277\n",
      "Epoch 9/15\n",
      "3923/3923 [==============================] - ETA: 0s - loss: 1.2839 - accuracy: 0.6097"
     ]
    },
    {
     "name": "stderr",
     "output_type": "stream",
     "text": [
      "WARNING:absl:Found untraced functions such as gru_cell_1_layer_call_fn, gru_cell_1_layer_call_and_return_conditional_losses while saving (showing 2 of 2). These functions will not be directly callable after loading.\n"
     ]
    },
    {
     "name": "stdout",
     "output_type": "stream",
     "text": [
      "INFO:tensorflow:Assets written to: sw_model/assets\n"
     ]
    },
    {
     "name": "stderr",
     "output_type": "stream",
     "text": [
      "INFO:tensorflow:Assets written to: sw_model/assets\n"
     ]
    },
    {
     "name": "stdout",
     "output_type": "stream",
     "text": [
      "3923/3923 [==============================] - 68s 17ms/step - loss: 1.2839 - accuracy: 0.6097 - val_loss: 1.6000 - val_accuracy: 0.5280\n",
      "Epoch 10/15\n",
      "3922/3923 [============================>.] - ETA: 0s - loss: 1.2712 - accuracy: 0.6130"
     ]
    },
    {
     "name": "stderr",
     "output_type": "stream",
     "text": [
      "WARNING:absl:Found untraced functions such as gru_cell_1_layer_call_fn, gru_cell_1_layer_call_and_return_conditional_losses while saving (showing 2 of 2). These functions will not be directly callable after loading.\n"
     ]
    },
    {
     "name": "stdout",
     "output_type": "stream",
     "text": [
      "INFO:tensorflow:Assets written to: sw_model/assets\n"
     ]
    },
    {
     "name": "stderr",
     "output_type": "stream",
     "text": [
      "INFO:tensorflow:Assets written to: sw_model/assets\n"
     ]
    },
    {
     "name": "stdout",
     "output_type": "stream",
     "text": [
      "3923/3923 [==============================] - 69s 18ms/step - loss: 1.2714 - accuracy: 0.6130 - val_loss: 1.5973 - val_accuracy: 0.5291\n",
      "Epoch 11/15\n",
      "3923/3923 [==============================] - ETA: 0s - loss: 1.2614 - accuracy: 0.6158"
     ]
    },
    {
     "name": "stderr",
     "output_type": "stream",
     "text": [
      "WARNING:absl:Found untraced functions such as gru_cell_1_layer_call_fn, gru_cell_1_layer_call_and_return_conditional_losses while saving (showing 2 of 2). These functions will not be directly callable after loading.\n"
     ]
    },
    {
     "name": "stdout",
     "output_type": "stream",
     "text": [
      "INFO:tensorflow:Assets written to: sw_model/assets\n"
     ]
    },
    {
     "name": "stderr",
     "output_type": "stream",
     "text": [
      "INFO:tensorflow:Assets written to: sw_model/assets\n"
     ]
    },
    {
     "name": "stdout",
     "output_type": "stream",
     "text": [
      "3923/3923 [==============================] - 68s 17ms/step - loss: 1.2614 - accuracy: 0.6158 - val_loss: 1.5959 - val_accuracy: 0.5308\n",
      "Epoch 12/15\n",
      "3923/3923 [==============================] - ETA: 0s - loss: 1.2531 - accuracy: 0.6180"
     ]
    },
    {
     "name": "stderr",
     "output_type": "stream",
     "text": [
      "WARNING:absl:Found untraced functions such as gru_cell_1_layer_call_fn, gru_cell_1_layer_call_and_return_conditional_losses while saving (showing 2 of 2). These functions will not be directly callable after loading.\n"
     ]
    },
    {
     "name": "stdout",
     "output_type": "stream",
     "text": [
      "INFO:tensorflow:Assets written to: sw_model/assets\n"
     ]
    },
    {
     "name": "stderr",
     "output_type": "stream",
     "text": [
      "INFO:tensorflow:Assets written to: sw_model/assets\n"
     ]
    },
    {
     "name": "stdout",
     "output_type": "stream",
     "text": [
      "3923/3923 [==============================] - 69s 18ms/step - loss: 1.2531 - accuracy: 0.6180 - val_loss: 1.5948 - val_accuracy: 0.5326\n",
      "Epoch 13/15\n",
      "3923/3923 [==============================] - 67s 17ms/step - loss: 1.2457 - accuracy: 0.6198 - val_loss: 1.5943 - val_accuracy: 0.5321\n",
      "Epoch 14/15\n",
      "3923/3923 [==============================] - 67s 17ms/step - loss: 1.2397 - accuracy: 0.6209 - val_loss: 1.5983 - val_accuracy: 0.5323\n",
      "Epoch 15/15\n",
      "3921/3923 [============================>.] - ETA: 0s - loss: 1.2343 - accuracy: 0.6224"
     ]
    },
    {
     "name": "stderr",
     "output_type": "stream",
     "text": [
      "WARNING:absl:Found untraced functions such as gru_cell_1_layer_call_fn, gru_cell_1_layer_call_and_return_conditional_losses while saving (showing 2 of 2). These functions will not be directly callable after loading.\n"
     ]
    },
    {
     "name": "stdout",
     "output_type": "stream",
     "text": [
      "INFO:tensorflow:Assets written to: sw_model/assets\n"
     ]
    },
    {
     "name": "stderr",
     "output_type": "stream",
     "text": [
      "INFO:tensorflow:Assets written to: sw_model/assets\n"
     ]
    },
    {
     "name": "stdout",
     "output_type": "stream",
     "text": [
      "3923/3923 [==============================] - 69s 17ms/step - loss: 1.2344 - accuracy: 0.6224 - val_loss: 1.5977 - val_accuracy: 0.5329\n"
     ]
    }
   ],
   "source": [
    "with tf.device('/CPU:0'):\n",
    "    model = tf.keras.Sequential([\n",
    "        tf.keras.layers.Embedding(input_dim=token_count, output_dim=16, batch_input_shape=[1, None]),\n",
    "        tf.keras.layers.GRU(128, return_sequences=True, stateful=True),\n",
    "        tf.keras.layers.Dense(token_count, activation=\"softmax\")\n",
    "    ])\n",
    "\n",
    "class ModelResetStatesCallback(tf.keras.callbacks.Callback):\n",
    "    def on_epoch_begin(self, epoch, logs):\n",
    "        self.model.reset_states()\n",
    "        \n",
    "model.compile(loss=\"sparse_categorical_crossentropy\", optimizer=\"nadam\", metrics=[\"accuracy\"])\n",
    "\n",
    "model_checkpoint = tf.keras.callbacks.ModelCheckpoint(\n",
    "    \"sw_model\", monitor=\"val_accuracy\", save_best_only=True)\n",
    "model_callbacks = [ModelResetStatesCallback(), model_checkpoint]\n",
    "\n",
    "history = model.fit(train_set, validation_data=valid_set, epochs=15, callbacks=model_callbacks)"
   ]
  },
  {
   "cell_type": "markdown",
   "metadata": {},
   "source": [
    "We will need to inference this model using the same input length as the batch size (in this case, 1) because the hidden states are explicitly tied to the batch size. So, instead we can copy the learned weights over to a stateless model to allow more flexible model inferencing."
   ]
  },
  {
   "cell_type": "code",
   "execution_count": 15,
   "metadata": {},
   "outputs": [
    {
     "data": {
      "image/png": "[encoded data removed]",
      "text/plain": [
       "<Figure size 1000x600 with 1 Axes>"
      ]
     },
     "metadata": {},
     "output_type": "display_data"
    }
   ],
   "source": [
    "import matplotlib.pyplot as plt\n",
    "\n",
    "# plot the learning curves (training and validation loss)\n",
    "def plot_curve(history):\n",
    "    plt.figure(figsize=(10, 6))\n",
    "    \n",
    "    # Plot training & validation loss values\n",
    "    plt.plot(history.history['loss'], label='Training Loss')\n",
    "    plt.plot(history.history['val_loss'], label='Validation Loss')\n",
    "    \n",
    "    # Adding labels and title\n",
    "    plt.title('Learning Curve')\n",
    "    plt.xlabel('Epoch')\n",
    "    plt.ylabel('Loss')\n",
    "    plt.legend(loc='upper right')\n",
    "    \n",
    "    plt.grid(True)\n",
    "    plt.show()\n",
    "\n",
    "plot_curve(history)"
   ]
  },
  {
   "cell_type": "code",
   "execution_count": 16,
   "metadata": {},
   "outputs": [],
   "source": [
    "converted_model = tf.keras.Sequential([\n",
    "    tf.keras.layers.Embedding(input_dim=token_count, output_dim=16),\n",
    "    tf.keras.layers.GRU(128, return_sequences=True),\n",
    "    tf.keras.layers.Dense(token_count, activation=\"softmax\")\n",
    "])\n",
    "\n",
    "# build the model, create the weight matrices and copy over the learnt weights.\n",
    "converted_model.build(tf.TensorShape([None, None])) \n",
    "converted_model.set_weights(model.get_weights())\n",
    "\n",
    "final_model = tf.keras.Sequential([\n",
    "    text_vec_layer,\n",
    "    tf.keras.layers.Lambda(lambda X: X - 2), # remove padding and unknown chars as before\n",
    "    converted_model\n",
    "])"
   ]
  },
  {
   "cell_type": "code",
   "execution_count": 25,
   "metadata": {},
   "outputs": [
    {
     "name": "stdout",
     "output_type": "stream",
     "text": [
      "Luke Skywalker \n",
      "and the deck see you with an old of the distance side of the cable \n",
      "and the contatle of the patter to his hand, with make in the dan\n"
     ]
    }
   ],
   "source": [
    "# copy of earlier functions for convenience\n",
    "def next_char(text, temp=1):\n",
    "    y_proba = final_model.predict([text], verbose=0)[0, -1:] # 1.\n",
    "    rescaled_logits = tf.math.log(y_proba) / temp # 2.\n",
    "    y_pred = tf.random.categorical(rescaled_logits, num_samples=1)[0, 0] #3.\n",
    "    return text_vec_layer.get_vocabulary()[y_pred + 2]\n",
    "    \n",
    "def produce_text(text, num_characters=140, temp=1):\n",
    "    for _ in range(num_characters):\n",
    "        text += next_char(text, temp)\n",
    "    return text\n",
    "\n",
    "print(produce_text(\"Luke Sky\", temp=0.6))"
   ]
  }
 ],
 "metadata": {
  "kernelspec": {
   "display_name": "Python 3 (ipykernel)",
   "language": "python",
   "name": "python3"
  },
  "language_info": {
   "codemirror_mode": {
    "name": "ipython",
    "version": 3
   },
   "file_extension": ".py",
   "mimetype": "text/x-python",
   "name": "python",
   "nbconvert_exporter": "python",
   "pygments_lexer": "ipython3",
   "version": "3.9.18"
  }
 },
 "nbformat": 4,
 "nbformat_minor": 4
}
